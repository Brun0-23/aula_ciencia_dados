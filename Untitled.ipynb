{
 "cells": [
  {
   "cell_type": "code",
   "execution_count": 1,
   "id": "9d66fe6c-da81-48a6-b994-39b66845684c",
   "metadata": {},
   "outputs": [],
   "source": [
    "num = 2\n",
    "num2 = 3"
   ]
  },
  {
   "cell_type": "code",
   "execution_count": 2,
   "id": "5ec4dc0f-071c-4bb6-a502-90dbc4d2c5c6",
   "metadata": {},
   "outputs": [
    {
     "name": "stdout",
     "output_type": "stream",
     "text": [
      "2\n",
      "3\n"
     ]
    }
   ],
   "source": [
    "print (num)\n",
    "print (num2)"
   ]
  },
  {
   "cell_type": "code",
   "execution_count": 3,
   "id": "d5c76853-9750-48c7-9156-babefba4adef",
   "metadata": {},
   "outputs": [
    {
     "name": "stdout",
     "output_type": "stream",
     "text": [
      "5\n"
     ]
    }
   ],
   "source": [
    "print(num + num2)"
   ]
  },
  {
   "cell_type": "code",
   "execution_count": 4,
   "id": "ce2a8d4f-9fe4-48a4-a15d-96d1dead15ba",
   "metadata": {},
   "outputs": [
    {
     "data": {
      "text/plain": [
       "'\\nComentarios\\nem varias\\nlinhas\\n'"
      ]
     },
     "execution_count": 4,
     "metadata": {},
     "output_type": "execute_result"
    }
   ],
   "source": [
    "#comentário em python\n",
    "'''\n",
    "Comentarios\n",
    "em varias\n",
    "linhas\n",
    "'''"
   ]
  },
  {
   "cell_type": "code",
   "execution_count": null,
   "id": "e1b0c0ee-db61-45f1-ba96-c9f7d9b56250",
   "metadata": {},
   "outputs": [],
   "source": []
  }
 ],
 "metadata": {
  "kernelspec": {
   "display_name": "Python 3 (ipykernel)",
   "language": "python",
   "name": "python3"
  },
  "language_info": {
   "codemirror_mode": {
    "name": "ipython",
    "version": 3
   },
   "file_extension": ".py",
   "mimetype": "text/x-python",
   "name": "python",
   "nbconvert_exporter": "python",
   "pygments_lexer": "ipython3",
   "version": "3.12.7"
  }
 },
 "nbformat": 4,
 "nbformat_minor": 5
}
